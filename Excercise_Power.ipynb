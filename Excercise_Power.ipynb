{
 "cells": [
  {
   "cell_type": "code",
   "execution_count": 1,
   "id": "580a65c6",
   "metadata": {},
   "outputs": [
    {
     "name": "stderr",
     "output_type": "stream",
     "text": [
      "C:\\Users\\ASUS\\anaconda3\\lib\\site-packages\\pandas\\core\\computation\\expressions.py:20: UserWarning: Pandas requires version '2.7.3' or newer of 'numexpr' (version '2.7.1' currently installed).\n",
      "  from pandas.core.computation.check import NUMEXPR_INSTALLED\n"
     ]
    }
   ],
   "source": [
    "import pyomo.environ as pyo\n",
    "from pyomo.environ import *\n",
    "from pyomo.opt import SolverFactory\n",
    "import pandas as pd\n",
    "\n",
    "dataGen = pd.read_excel('inputs.xlsx', sheet_name = 'gen')\n",
    "dataLoad = pd.read_excel('inputs.xlsx', sheet_name = 'load')"
   ]
  },
  {
   "cell_type": "code",
   "execution_count": 2,
   "id": "8e8408ff",
   "metadata": {},
   "outputs": [
    {
     "data": {
      "text/html": [
       "<div>\n",
       "<style scoped>\n",
       "    .dataframe tbody tr th:only-of-type {\n",
       "        vertical-align: middle;\n",
       "    }\n",
       "\n",
       "    .dataframe tbody tr th {\n",
       "        vertical-align: top;\n",
       "    }\n",
       "\n",
       "    .dataframe thead th {\n",
       "        text-align: right;\n",
       "    }\n",
       "</style>\n",
       "<table border=\"1\" class=\"dataframe\">\n",
       "  <thead>\n",
       "    <tr style=\"text-align: right;\">\n",
       "      <th></th>\n",
       "      <th>id</th>\n",
       "      <th>limit</th>\n",
       "      <th>cost</th>\n",
       "    </tr>\n",
       "  </thead>\n",
       "  <tbody>\n",
       "    <tr>\n",
       "      <th>0</th>\n",
       "      <td>0</td>\n",
       "      <td>20</td>\n",
       "      <td>0.10</td>\n",
       "    </tr>\n",
       "    <tr>\n",
       "      <th>1</th>\n",
       "      <td>1</td>\n",
       "      <td>10</td>\n",
       "      <td>0.05</td>\n",
       "    </tr>\n",
       "    <tr>\n",
       "      <th>2</th>\n",
       "      <td>2</td>\n",
       "      <td>40</td>\n",
       "      <td>0.30</td>\n",
       "    </tr>\n",
       "    <tr>\n",
       "      <th>3</th>\n",
       "      <td>3</td>\n",
       "      <td>50</td>\n",
       "      <td>0.40</td>\n",
       "    </tr>\n",
       "    <tr>\n",
       "      <th>4</th>\n",
       "      <td>4</td>\n",
       "      <td>5</td>\n",
       "      <td>0.01</td>\n",
       "    </tr>\n",
       "  </tbody>\n",
       "</table>\n",
       "</div>"
      ],
      "text/plain": [
       "   id  limit  cost\n",
       "0   0     20  0.10\n",
       "1   1     10  0.05\n",
       "2   2     40  0.30\n",
       "3   3     50  0.40\n",
       "4   4      5  0.01"
      ]
     },
     "execution_count": 2,
     "metadata": {},
     "output_type": "execute_result"
    }
   ],
   "source": [
    "dataGen"
   ]
  },
  {
   "cell_type": "code",
   "execution_count": 3,
   "id": "00b9c803",
   "metadata": {},
   "outputs": [
    {
     "data": {
      "text/html": [
       "<div>\n",
       "<style scoped>\n",
       "    .dataframe tbody tr th:only-of-type {\n",
       "        vertical-align: middle;\n",
       "    }\n",
       "\n",
       "    .dataframe tbody tr th {\n",
       "        vertical-align: top;\n",
       "    }\n",
       "\n",
       "    .dataframe thead th {\n",
       "        text-align: right;\n",
       "    }\n",
       "</style>\n",
       "<table border=\"1\" class=\"dataframe\">\n",
       "  <thead>\n",
       "    <tr style=\"text-align: right;\">\n",
       "      <th></th>\n",
       "      <th>id</th>\n",
       "      <th>value</th>\n",
       "    </tr>\n",
       "  </thead>\n",
       "  <tbody>\n",
       "    <tr>\n",
       "      <th>0</th>\n",
       "      <td>0</td>\n",
       "      <td>50</td>\n",
       "    </tr>\n",
       "    <tr>\n",
       "      <th>1</th>\n",
       "      <td>1</td>\n",
       "      <td>20</td>\n",
       "    </tr>\n",
       "    <tr>\n",
       "      <th>2</th>\n",
       "      <td>2</td>\n",
       "      <td>30</td>\n",
       "    </tr>\n",
       "  </tbody>\n",
       "</table>\n",
       "</div>"
      ],
      "text/plain": [
       "   id  value\n",
       "0   0     50\n",
       "1   1     20\n",
       "2   2     30"
      ]
     },
     "execution_count": 3,
     "metadata": {},
     "output_type": "execute_result"
    }
   ],
   "source": [
    "dataLoad"
   ]
  },
  {
   "cell_type": "code",
   "execution_count": 4,
   "id": "c3fe3dc7",
   "metadata": {},
   "outputs": [
    {
     "data": {
      "text/plain": [
       "0.05"
      ]
     },
     "execution_count": 4,
     "metadata": {},
     "output_type": "execute_result"
    }
   ],
   "source": [
    "dataGen.cost[1]"
   ]
  },
  {
   "cell_type": "code",
   "execution_count": 5,
   "id": "13c29a9e",
   "metadata": {},
   "outputs": [],
   "source": [
    "Ng = len(dataGen)"
   ]
  },
  {
   "cell_type": "code",
   "execution_count": 6,
   "id": "2126a932",
   "metadata": {},
   "outputs": [],
   "source": [
    "model = pyo.ConcreteModel()\n",
    "\n",
    "model.Pg = pyo.Var(range(Ng),bounds = (0,None))"
   ]
  },
  {
   "cell_type": "code",
   "execution_count": 7,
   "id": "008e984a",
   "metadata": {},
   "outputs": [
    {
     "name": "stdout",
     "output_type": "stream",
     "text": [
      "Pg : Size=5, Index=Pg_index\n",
      "    Key : Lower : Value : Upper : Fixed : Stale : Domain\n",
      "      0 :     0 :  None :  None : False :  True :  Reals\n",
      "      1 :     0 :  None :  None : False :  True :  Reals\n",
      "      2 :     0 :  None :  None : False :  True :  Reals\n",
      "      3 :     0 :  None :  None : False :  True :  Reals\n",
      "      4 :     0 :  None :  None : False :  True :  Reals\n"
     ]
    }
   ],
   "source": [
    "model.Pg.pprint()"
   ]
  },
  {
   "cell_type": "code",
   "execution_count": 8,
   "id": "cb13bfdc",
   "metadata": {},
   "outputs": [
    {
     "name": "stdout",
     "output_type": "stream",
     "text": [
      "Pg[0] + Pg[1] + Pg[2] + Pg[3] + Pg[4]\n",
      "lim : Size=5, Index=lim_index, Active=True\n",
      "    Key : Lower : Body  : Upper : Active\n",
      "      1 :  -Inf : Pg[0] :  20.0 :   True\n",
      "      2 :  -Inf : Pg[1] :  10.0 :   True\n",
      "      3 :  -Inf : Pg[2] :  40.0 :   True\n",
      "      4 :  -Inf : Pg[3] :  50.0 :   True\n",
      "      5 :  -Inf : Pg[4] :   5.0 :   True\n",
      "balance : Size=1, Index=None, Active=True\n",
      "    Key  : Lower : Body                                  : Upper : Active\n",
      "    None : 100.0 : Pg[0] + Pg[1] + Pg[2] + Pg[3] + Pg[4] : 100.0 :   True\n",
      "cond : Size=1, Index=None, Active=True\n",
      "    Key  : Lower : Body          : Upper : Active\n",
      "    None :  50.0 : Pg[0] + Pg[3] :  +Inf :   True\n"
     ]
    }
   ],
   "source": [
    "Pg = model.Pg\n",
    "\n",
    "pg_sum = sum([Pg[g] for g in dataGen.id])\n",
    "print(pg_sum)\n",
    "\n",
    "model.lim = pyo.ConstraintList()\n",
    "for k in dataGen.id:\n",
    "    model.lim.add( expr = Pg[k] <= dataGen.limit[k])\n",
    "model.lim.pprint()\n",
    "\n",
    "model.balance = pyo.Constraint(expr = pg_sum == sum(dataLoad.value))\n",
    "model.balance.pprint()\n",
    "\n",
    "model.cond = pyo.Constraint(expr = Pg[0] + Pg[3] >= dataLoad.value[0])\n",
    "model.cond.pprint()"
   ]
  },
  {
   "cell_type": "code",
   "execution_count": 13,
   "id": "0319f339",
   "metadata": {},
   "outputs": [
    {
     "name": "stdout",
     "output_type": "stream",
     "text": [
      "WARNING: Implicitly replacing the Component attribute obj (type=<class\n",
      "'pyomo.core.base.objective.ScalarObjective'>) on block unknown with a new\n",
      "Component (type=<class 'pyomo.core.base.objective.ScalarObjective'>). This is\n",
      "usually indicative of a modelling error. To avoid this warning, use\n",
      "block.del_component() and block.add_component().\n",
      "   id  limit  cost    Pg\n",
      "0   0     20  0.10  20.0\n",
      "1   1     10  0.05  10.0\n",
      "2   2     40  0.30  35.0\n",
      "3   3     50  0.40  30.0\n",
      "4   4      5  0.01   5.0\n"
     ]
    }
   ],
   "source": [
    "obj_sum = sum([Pg[g]*dataGen.cost[g] for g in dataGen.id])\n",
    "model.obj = pyo.Objective(expr = obj_sum, sense=minimize)\n",
    "\n",
    "opt = SolverFactory('gurobi')\n",
    "results = opt.solve(model)\n",
    "\n",
    "dataGen['Pg'] = [pyo.value(Pg[g]) for g in dataGen.id]\n",
    "print(dataGen)"
   ]
  },
  {
   "cell_type": "code",
   "execution_count": null,
   "id": "39825fe3",
   "metadata": {},
   "outputs": [],
   "source": []
  },
  {
   "cell_type": "code",
   "execution_count": null,
   "id": "cefeaf9d",
   "metadata": {},
   "outputs": [],
   "source": []
  },
  {
   "cell_type": "code",
   "execution_count": null,
   "id": "62fabd9e",
   "metadata": {},
   "outputs": [],
   "source": []
  }
 ],
 "metadata": {
  "kernelspec": {
   "display_name": "Python 3",
   "language": "python",
   "name": "python3"
  },
  "language_info": {
   "codemirror_mode": {
    "name": "ipython",
    "version": 3
   },
   "file_extension": ".py",
   "mimetype": "text/x-python",
   "name": "python",
   "nbconvert_exporter": "python",
   "pygments_lexer": "ipython3",
   "version": "3.8.3"
  }
 },
 "nbformat": 4,
 "nbformat_minor": 5
}
