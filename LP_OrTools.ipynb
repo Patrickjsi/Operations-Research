{
 "cells": [
  {
   "cell_type": "code",
   "execution_count": 1,
   "id": "f8d411e7",
   "metadata": {},
   "outputs": [],
   "source": [
    "from ortools.linear_solver import pywraplp\n",
    "solver = pywraplp.Solver.CreateSolver('GLOP')"
   ]
  },
  {
   "cell_type": "code",
   "execution_count": 2,
   "id": "537083e1",
   "metadata": {},
   "outputs": [],
   "source": [
    "x = solver.NumVar(0,10,'x')\n",
    "y = solver.NumVar(0,10,'y')"
   ]
  },
  {
   "cell_type": "code",
   "execution_count": 3,
   "id": "8b10b512",
   "metadata": {},
   "outputs": [
    {
     "data": {
      "text/plain": [
       "<ortools.linear_solver.pywraplp.Constraint; proxy of <Swig Object of type 'operations_research::MPConstraint *' at 0x000001F826F6F030> >"
      ]
     },
     "execution_count": 3,
     "metadata": {},
     "output_type": "execute_result"
    }
   ],
   "source": [
    "solver.Add(-x+2*y<=8)\n",
    "solver.Add(2*x+y<=14)\n",
    "solver.Add(2*x-y<=10)"
   ]
  },
  {
   "cell_type": "code",
   "execution_count": 4,
   "id": "a473783b",
   "metadata": {},
   "outputs": [],
   "source": [
    "solver.Maximize(x+y)"
   ]
  },
  {
   "cell_type": "code",
   "execution_count": 5,
   "id": "a8b3a749",
   "metadata": {},
   "outputs": [],
   "source": [
    "results = solver.Solve()"
   ]
  },
  {
   "cell_type": "code",
   "execution_count": 6,
   "id": "4bd2712e",
   "metadata": {},
   "outputs": [
    {
     "name": "stdout",
     "output_type": "stream",
     "text": [
      "Optimal Found\n"
     ]
    }
   ],
   "source": [
    "if results == pywraplp.Solver.OPTIMAL:\n",
    "    print('Optimal Found')"
   ]
  },
  {
   "cell_type": "code",
   "execution_count": null,
   "id": "7210e63c",
   "metadata": {},
   "outputs": [],
   "source": []
  },
  {
   "cell_type": "code",
   "execution_count": 7,
   "id": "108cfbca",
   "metadata": {},
   "outputs": [
    {
     "name": "stdout",
     "output_type": "stream",
     "text": [
      "x: 4.0\n",
      "y: 6.0\n"
     ]
    }
   ],
   "source": [
    "print('x:', x.solution_value())\n",
    "print('y:', y.solution_value())"
   ]
  },
  {
   "cell_type": "code",
   "execution_count": null,
   "id": "a9085638",
   "metadata": {},
   "outputs": [],
   "source": []
  }
 ],
 "metadata": {
  "kernelspec": {
   "display_name": "Python 3",
   "language": "python",
   "name": "python3"
  },
  "language_info": {
   "codemirror_mode": {
    "name": "ipython",
    "version": 3
   },
   "file_extension": ".py",
   "mimetype": "text/x-python",
   "name": "python",
   "nbconvert_exporter": "python",
   "pygments_lexer": "ipython3",
   "version": "3.8.3"
  }
 },
 "nbformat": 4,
 "nbformat_minor": 5
}
