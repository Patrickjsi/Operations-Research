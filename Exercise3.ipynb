{
 "cells": [
  {
   "cell_type": "code",
   "execution_count": 1,
   "id": "7531cf1e",
   "metadata": {},
   "outputs": [
    {
     "name": "stdout",
     "output_type": "stream",
     "text": [
      "2 Var Declarations\n",
      "    x : Size=1, Index=None\n",
      "        Key  : Lower : Value                : Upper : Fixed : Stale : Domain\n",
      "        None :    -5 : -0.49999999790726224 :     5 : False : False :  Reals\n",
      "    y : Size=1, Index=None\n",
      "        Key  : Lower : Value : Upper : Fixed : Stale : Domain\n",
      "        None :    -5 :   0.0 :     5 : False : False :  Reals\n",
      "\n",
      "1 Objective Declarations\n",
      "    obj : Size=1, Index=None, Active=True\n",
      "        Key  : Active : Sense    : Expression\n",
      "        None :   True : maximize : cos(x + 1) + cos(x)*cos(y)\n",
      "\n",
      "3 Declarations: x y obj\n",
      "\n",
      "-------------------------------------------------------------------------------------\n",
      "x= -0.49999999790726224\n",
      "y= 0.0\n"
     ]
    }
   ],
   "source": [
    "import pyomo.environ as pyo\n",
    "from pyomo.environ import *\n",
    "from pyomo.opt import SolverFactory\n",
    "import math\n",
    "\n",
    "model = pyo.ConcreteModel() \n",
    "\n",
    "model.x = pyo.Var(initialize=0,bounds = (-5,5))\n",
    "model.y = pyo.Var(initialize=0,bounds = (-5,5))\n",
    "\n",
    "x = model.x\n",
    "y = model.y\n",
    "\n",
    "model.obj = pyo.Objective(expr = cos(x+1) + cos(x)*cos(y), sense = maximize)\n",
    "\n",
    "opt= SolverFactory('ipopt', executable = 'C:\\\\ipopt\\\\bin\\\\ipopt.exe')\n",
    "opt.options['tol']=1e-6\n",
    "opt.solve(model)\n",
    "\n",
    "model.pprint()\n",
    "\n",
    "x_value = pyo.value(x)\n",
    "y_value = pyo.value(y)\n",
    "\n",
    "print('\\n-------------------------------------------------------------------------------------')\n",
    "print('x=', x_value)\n",
    "print('y=', y_value)"
   ]
  },
  {
   "cell_type": "code",
   "execution_count": null,
   "id": "d4d25fd7",
   "metadata": {},
   "outputs": [],
   "source": []
  }
 ],
 "metadata": {
  "kernelspec": {
   "display_name": "Python 3",
   "language": "python",
   "name": "python3"
  },
  "language_info": {
   "codemirror_mode": {
    "name": "ipython",
    "version": 3
   },
   "file_extension": ".py",
   "mimetype": "text/x-python",
   "name": "python",
   "nbconvert_exporter": "python",
   "pygments_lexer": "ipython3",
   "version": "3.8.3"
  }
 },
 "nbformat": 4,
 "nbformat_minor": 5
}
