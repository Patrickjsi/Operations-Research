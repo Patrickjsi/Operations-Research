{
  "nbformat": 4,
  "nbformat_minor": 0,
  "metadata": {
    "colab": {
      "provenance": []
    },
    "kernelspec": {
      "name": "python3",
      "display_name": "Python 3"
    },
    "language_info": {
      "name": "python"
    }
  },
  "cells": [
    {
      "cell_type": "markdown",
      "metadata": {
        "id": "PLH3ZVG6Ag4B"
      },
      "source": [
        "# **Modeling Logical Constraints Involving Binary Variables**#\n",
        "\n",
        "\n",
        "**What will you learn?**\n",
        "\n",
        "*   Modeling - Knapsack problem\n",
        "*   Implementation using GurobiPy (python)\n",
        "*   Logical constraints and their implementation\n",
        "*   Standard modeling interview questions (logical constraints involving binary variables)\n",
        "\n",
        "\n",
        "# **Knapsack Problem:**\n",
        "Given a stack of 500 shipments with their values, weights and volumes, and a truck container with weight capacity of 20500 Kg and load volume of 3,000 cu. ft., write an optimization model to find the set of shipments which maximize the value that can be packed in the container, while respecting the weight and volume constraints."
      ]
    },
    {
      "cell_type": "markdown",
      "metadata": {
        "id": "Ri6DA7AX9lH1"
      },
      "source": [
        "\n",
        "# **Mathematical Model:**\n",
        "**Parameters:**\n",
        "\n",
        "\\begin{align*}\n",
        "N &= \\text{number of shipments } \\\\\n",
        "    value_i &= \\text{value of shipment }i, (\\text{\\$}) \\\\\n",
        "    weight_i &= \\text{weight of shipment }i, (\\text{kg}) \\\\\n",
        "    volume_i &= \\text{volume of shipment }i, (\\text{cu. ft.}) \\\\\n",
        "    weight^{max} &= \\text{maximum carrying weight of the container}, (\\text{kg}) \\\\\n",
        "        volume^{max} &= \\text{maximum carrying capacity (volume) of the container}, (\\text{cu. ft.}) \\\\\n",
        "\\end{align*}\n",
        "**Decision variables:**\n",
        "  \\begin{equation}\n",
        "    x_i =\n",
        "    \\begin{cases}\n",
        "      1, & \\text{if shipment }i \\text{ is seleceted} \\\\\n",
        "      0, & \\text{otherwise}\n",
        "    \\end{cases}\n",
        "  \\end{equation}\n",
        "\n",
        "**Objective function:**\n",
        "$$ \\textrm{Maximize} \\sum \\limits _{i=1} ^{N} x_i \\cdot value_i $$\n",
        "\n",
        "**Constraints:**\n",
        "\n",
        "\n",
        "1.   Total weight of all selected shipments can not be more than the maximum weight capacity of the container.\n",
        "$$  \\sum \\limits _{i=1} ^{N} x_i \\cdot weight_i \\leq weight^{max}$$\n",
        "2.   Total volume of all selected shipments can not be more than the maximum volume of the container.\n",
        "$$  \\sum \\limits _{i=1} ^{N} x_i \\cdot volume_i \\leq volume^{max}$$\n",
        "\n",
        "\n",
        "\n"
      ]
    },
    {
      "cell_type": "markdown",
      "metadata": {
        "id": "0kwuPVuYePBy"
      },
      "source": [
        "# **Import all required python packages:**"
      ]
    },
    {
      "cell_type": "code",
      "metadata": {
        "id": "bjE0GrTheZgd",
        "colab": {
          "base_uri": "https://localhost:8080/"
        },
        "outputId": "948117ad-6939-4690-ad40-d1bfac67585f"
      },
      "source": [
        "import numpy as np\n",
        "from time import gmtime, strftime\n",
        "np.random.seed(1729) # setting random seed to get the same output in each run since I am generating random inputs\n",
        "# Display current time\n",
        "print('Date & Time now: ', strftime(\"%d-%m-%Y %H:%M:%S %Z%z\", gmtime()))"
      ],
      "execution_count": null,
      "outputs": [
        {
          "output_type": "stream",
          "text": [
            "Date & Time now:  17-07-2021 14:07:49 GMT+0000\n"
          ],
          "name": "stdout"
        }
      ]
    },
    {
      "cell_type": "markdown",
      "metadata": {
        "id": "FrpihGYzIS1m"
      },
      "source": [
        "# **Data Generation:**"
      ]
    },
    {
      "cell_type": "code",
      "metadata": {
        "id": "0s-C9wW2ACiz"
      },
      "source": [
        "number_of_shipments = 500\n",
        "weights_mu, weights_sigma = 70, 20 # weights of the shipments are randomly generated N(weights_mu, weights_sigma)\n",
        "weights = abs(np.around(np.random.normal(weights_mu, weights_sigma, number_of_shipments),2)) # taken absolute values since weights cannot be negetive, rounded to second decimal places\n",
        "volumes_mu, volumes_sigma = 10, 2 # volumes of the shipments are randomly generated N(volumes_mu, volumes_sigma)\n",
        "volumes = abs(np.around(np.random.normal(volumes_mu, volumes_sigma, number_of_shipments),2)) # taken absolute values since weights cannot be negetive, rounded to second decimal places\n",
        "values_mu, values_sigma = 50, 30 # values of the shipments are randomly generated N(values_mu, values_sigma)\n",
        "values = abs(np.around(np.random.normal(values_mu, values_sigma, number_of_shipments),2)) # taken absolute since values of a shipment cannot be negetive, rounded to second decimal places\n",
        "maximum_weight, maximum_volume = 20500, 3000 # maximum weight and volume capacity of the container"
      ],
      "execution_count": null,
      "outputs": []
    },
    {
      "cell_type": "markdown",
      "metadata": {
        "id": "ntxRxnyrIa2X"
      },
      "source": [
        "# **Model implementation using GurobiPy:**\n",
        "*Free Gurobi solver limitation on problem size* - Problems with at most 2000 variables and 2000 constraints.\n"
      ]
    },
    {
      "cell_type": "code",
      "metadata": {
        "colab": {
          "base_uri": "https://localhost:8080/"
        },
        "id": "ZY-nMMLaIlnK",
        "outputId": "bc5eaa12-ae5b-4143-8902-f275c2d34d48"
      },
      "source": [
        "# Install guribipy and import to use gurobi as a solver\n",
        "%pip install -i https://pypi.gurobi.com gurobipy\n",
        "import gurobipy as gp\n",
        "from gurobipy import *\n",
        "\n",
        "# Declare and Initialize the model\n",
        "optimization_model = gp.Model('Knapsack Problem')\n",
        "\n",
        "# define decision variables - x_i is 1 if shipment 'i' is selected; 0 otherwise. (Binary variables)\n",
        "x = optimization_model.addVars(number_of_shipments, vtype=GRB.BINARY, name = 'shipment')\n",
        "\n",
        "# define objective (maximize total values of all selected shipments)\n",
        "optimization_model.setObjective(gp.quicksum(x[i] * values[i] for i in range(number_of_shipments)), GRB.MAXIMIZE)\n",
        "\n",
        "# add the maximum weight constraint\n",
        "optimization_model.addConstr(gp.quicksum(weights[i] * x[i] for i in range(number_of_shipments)) <= maximum_weight, name = 'weight_capacity_constraint')\n",
        "\n",
        "# add the maximum volume constraint\n",
        "optimization_model.addConstr(gp.quicksum(volumes[i] * x[i] for i in range(number_of_shipments)) <= maximum_volume, name = 'volume_capacity_constraint')\n",
        "\n",
        "# solve the model using Gurobi solver\n",
        "optimization_model.setParam('LogToConsole', 0) # To supress the solver log in the output console\n",
        "optimization_model.optimize()\n",
        "optimization_model.write('Knapsack_Problem_Base_Case.lp')\n",
        "\n",
        "# identify the model status (optimal, infeasible, unbounded)\n",
        "if optimization_model.status == GRB.OPTIMAL:\n",
        "  optimal_objective_value = optimization_model.objVal # obtain the optimal objective value for future use\n",
        "  print('\\nThe optimal objective: %g' % optimal_objective_value)\n",
        "elif optimization_model.status == GRB.INF_OR_UNBD:\n",
        "  print('Model is infeasible or unbounded')\n",
        "  sys.exit(0)\n",
        "elif optimization_model.status == GRB.INFEASIBLE:\n",
        "  print('Model is infeasible')\n",
        "  sys.exit(0)\n",
        "elif optimization_model.status == GRB.UNBOUNDED:\n",
        "  print('Model is unbounded')\n",
        "  sys.exit(0)\n",
        "else:\n",
        "  print('Optimization ended with status %d' % optimization_model.status)\n",
        "  sys.exit(0)\n",
        "\n",
        "# selected shipments\n",
        "selected_shipments = [] #initialization [shipment_id, value, weight, volume]\n",
        "not_selected_shipments = [] #initialization [shipment_id, value, weight, volume]\n",
        "total_weight_of_selected_items = 0  #initialization\n",
        "total_volume_of_selected_items = 0  #initialization\n",
        "for variables in optimization_model.getVars():\n",
        "  if variables.x > 0.5:\n",
        "    selected_shipments.append([variables.index, values[variables.index], weights[variables.index], volumes[variables.index]])\n",
        "    total_weight_of_selected_items += weights[variables.index]\n",
        "    total_volume_of_selected_items += volumes[variables.index]\n",
        "  else:\n",
        "    not_selected_shipments.append([variables.index, values[variables.index], weights[variables.index], volumes[variables.index]])\n",
        "selected_shipments = sorted(selected_shipments, key=lambda x: x[1], reverse=True) # Shipments are sorted based on values of selected items, descending order\n",
        "not_selected_shipments = sorted(not_selected_shipments, key=lambda x: x[1], reverse=True) # Shipments are sorted based on values of not selected items, descending order\n",
        "print('First twenty selected shipments with highest values: ', selected_shipments[0:20])\n",
        "print('First twenty not selected shipments: ', not_selected_shipments[0:20])\n",
        "print('Total number of shipments in the container: ', len(selected_shipments))\n",
        "print('Total weight in the container: ', round(total_weight_of_selected_items,2), ' kg')\n",
        "print('Total volume in the container: ', round(total_volume_of_selected_items, 2), ' cu. ft.')\n",
        "\n"
      ],
      "execution_count": null,
      "outputs": [
        {
          "output_type": "stream",
          "text": [
            "Looking in indexes: https://pypi.gurobi.com\n",
            "Collecting gurobipy\n",
            "\u001b[?25l  Downloading https://files.pythonhosted.org/packages/01/4a/31c1ac445352f5c7e73afe9a0a013b3f4de955826c28bebfc3e44d30b11b/gurobipy-9.1.2-cp37-cp37m-manylinux1_x86_64.whl (11.1MB)\n",
            "\u001b[K     |████████████████████████████████| 11.1MB 240kB/s \n",
            "\u001b[?25hInstalling collected packages: gurobipy\n",
            "Successfully installed gurobipy-9.1.2\n",
            "Restricted license - for non-production use only - expires 2022-01-13\n",
            "\n",
            "The optimal objective: 20734.2\n",
            "First twenty selected shipments with highest values:  [[205, 129.28, 58.28, 12.57], [326, 125.33, 93.87, 9.02], [123, 123.17, 88.53, 8.78], [137, 120.23, 71.49, 9.24], [122, 119.13, 87.59, 9.04], [221, 117.73, 60.26, 6.89], [45, 112.09, 78.18, 8.68], [306, 111.66, 61.36, 12.31], [426, 109.96, 31.21, 9.06], [39, 109.18, 69.61, 9.9], [450, 107.16, 81.76, 11.07], [34, 106.66, 92.67, 12.14], [352, 106.35, 66.54, 11.0], [187, 106.15, 74.65, 9.71], [466, 105.39, 54.94, 7.95], [233, 105.34, 61.25, 10.24], [293, 104.64, 72.43, 10.22], [185, 103.44, 71.17, 12.46], [474, 102.93, 65.36, 6.87], [173, 102.84, 81.87, 11.17]]\n",
            "First twenty not selected shipments:  [[279, 48.68, 84.44, 12.85], [366, 46.22, 80.92, 12.35], [339, 45.73, 71.34, 11.94], [356, 45.43, 39.05, 16.71], [245, 44.44, 87.15, 12.26], [465, 43.99, 105.14, 8.84], [418, 43.89, 78.77, 11.47], [476, 43.32, 87.13, 10.38], [231, 42.87, 81.31, 11.17], [158, 42.66, 68.05, 10.59], [109, 42.44, 50.31, 11.81], [259, 42.26, 89.38, 11.64], [486, 41.22, 52.32, 12.58], [316, 41.15, 86.98, 8.97], [258, 40.28, 43.04, 11.87], [404, 40.27, 79.64, 11.83], [3, 39.76, 58.49, 11.11], [407, 39.74, 99.86, 12.87], [12, 39.59, 38.87, 12.91], [136, 38.46, 110.85, 10.64]]\n",
            "Total number of shipments in the container:  310\n",
            "Total weight in the container:  20499.97  kg\n",
            "Total volume in the container:  2999.99  cu. ft.\n"
          ],
          "name": "stdout"
        }
      ]
    },
    {
      "cell_type": "markdown",
      "metadata": {
        "id": "paL8k80FbitK"
      },
      "source": [
        "# **Logical constraints:**\n",
        "\n",
        "\n",
        "1.   If shipment **A** is selected then shipment **B** must be selected.\n",
        "\n",
        "  *Constraint 1:*  $ x_B \\geq x_A $\n",
        "2.   Shipments **C** and **D** cannot be selected together.\n",
        "\n",
        "  *Constraint 2:*  $  x_C + x_D \\leq 1 $\n",
        "3.   Shipment **G** must be selected if both shipment **E** and **F** are selected.\n",
        "\n",
        "  *Constraint 3:*  $  x_G \\geq  x_E + x_F - 1 $\n",
        "4.   Shipments **I**, **J**, \\& **K** cannot be selected together.  \n",
        "  *Constraint 4:*  $  x_I +  x_J + x_K \\leq 2 $\n",
        "\n",
        "5.   Shipments **L** \\& **M** can be selected together only if shipments **O** \\& **P** are selected.\n",
        "\n",
        "  *Constraint 5:*  $  x_L +  x_M \\leq  x_O + x_P$\n",
        "\n",
        "6. Shipments **Q** is selected if and only if **R** is seleced.\n",
        "\n",
        "  *Constraint 6:*  $  x_Q =  x_R$\n",
        "\n",
        "7. Must select shipment **S** or shipment **T** or both.\n",
        "\n",
        "  *Constraint 7:*  $  x_S + x_T \\geq 1 $"
      ]
    },
    {
      "cell_type": "code",
      "metadata": {
        "colab": {
          "base_uri": "https://localhost:8080/"
        },
        "id": "TKOmMvsxF_c7",
        "outputId": "e7021968-66e4-4dd3-b9a3-632557fc9487"
      },
      "source": [
        "# First twenty selected shipments [Shipment_ID, Value, Weight, Volumw]:  [[205, 129.28, 58.28, 12.57], [326, 125.33, 93.87, 9.02], [123, 123.17, 88.53, 8.78], [137, 120.23, 71.49, 9.24], [122, 119.13, 87.59, 9.04], [221, 117.73, 60.26, 6.89], [45, 112.09, 78.18, 8.68], [306, 111.66, 61.36, 12.31], [426, 109.96, 31.21, 9.06], [39, 109.18, 69.61, 9.9], [450, 107.16, 81.76, 11.07], [34, 106.66, 92.67, 12.14], [352, 106.35, 66.54, 11.0], [187, 106.15, 74.65, 9.71], [466, 105.39, 54.94, 7.95], [233, 105.34, 61.25, 10.24], [293, 104.64, 72.43, 10.22], [185, 103.44, 71.17, 12.46], [474, 102.93, 65.36, 6.87], [173, 102.84, 81.87, 11.17]]\n",
        "\n",
        "# First ten not selected shipments:  [[279, 48.68, 84.44, 12.85], [366, 46.22, 80.92, 12.35], [339, 45.73, 71.34, 11.94], [356, 45.43, 39.05, 16.71], [245, 44.44, 87.15, 12.26], [465, 43.99, 105.14, 8.84], [418, 43.89, 78.77, 11.47], [476, 43.32, 87.13, 10.38], [231, 42.87, 81.31, 11.17], [158, 42.66, 68.05, 10.59]]\n",
        "\n",
        "# add constraint 1: If shipment 205 is selected then shipment 279 must be selected. Currently, shipment 279 is not selected and shipments 205 is selected. Let's model this constraint and observe the result.\n",
        "optimization_model.addConstr(x[279] >= x[205], name = 'constraint_1')\n",
        "\n",
        "# add constraint 2: Shipments 326 and 123 cannot be selected together. Currently, both shipments are selected. Let's model this constraint and observe the result.\n",
        "optimization_model.addConstr(x[326] + x[123] <= 1, name = 'constraint_2')\n",
        "\n",
        "# add constraint 3: Shipment 339 must be selected if both shipment 205 and 326 are selected. Currently, both shipments 205 and 326 are selected and 339 is not selected. Let's model this constraint and observe the result.\n",
        "optimization_model.addConstr(x[339] >= x[205] + x[326] - 1, name = 'constraint_3')\n",
        "\n",
        "# add constraint 4: Shipments 221, 45, & 306 cannot be selected together. Currently, all these shipments are selected. Let's model this constraint and observe the result.\n",
        "optimization_model.addConstr(x[221] + x[45] + x[306] <= 2, name = 'constraint_4')\n",
        "\n",
        "# add constraint 5: Shipments 352 & 187 can be selected together only if shipments 339 & 356 are selected. Currently, shipments 352 and 187 are selected and shipments 339 and 35 are not selected. Let's model this constraint and observe the result.\n",
        "optimization_model.addConstr(x[352] + x[187] <= x[339] + x[356], name = 'constraint_5')\n",
        "\n",
        "# add constraint 6: Shipments 245 is selected if and only if 205 is seleced. Currently, shipment 205 is selected and shipment 245 is not selected. Let's model this constraint and observe the result.\n",
        "optimization_model.addConstr(x[245]  == x[205], name = 'constraint_6')\n",
        "\n",
        "# add constraint 7: Must select shipment 279 or shipment 366 or both. Currently, both shipments 279 & 366 are not selected. Let's model this constraint and observe the result.\n",
        "optimization_model.addConstr(x[279] + x[366] >= 1, name = 'constraint_7')\n",
        "\n",
        "# solve the model using Gurobi solver\n",
        "optimization_model.setParam('LogToConsole', 0) # To supress the solver log in the output console\n",
        "optimization_model.setParam('LogFile', \"logs_Knapsack_Problem_with_Logical_Constraints.txt\")\n",
        "optimization_model.optimize()\n",
        "optimization_model.write('Knapsack_Problem_with_Logical_Constraints.lp')\n",
        "\n",
        "# identify the model status (optimal, infeasible, unbounded)\n",
        "if optimization_model.status == GRB.OPTIMAL:\n",
        "  optimal_objective_value = optimization_model.objVal # obtain the optimal objective value for future use\n",
        "  print('\\nThe optimal objective: %g' % optimal_objective_value)\n",
        "elif optimization_model.status == GRB.INF_OR_UNBD:\n",
        "  print('Model is infeasible or unbounded')\n",
        "  sys.exit(0)\n",
        "elif optimization_model.status == GRB.INFEASIBLE:\n",
        "  print('Model is infeasible')\n",
        "  sys.exit(0)\n",
        "elif optimization_model.status == GRB.UNBOUNDED:\n",
        "  print('Model is unbounded')\n",
        "  sys.exit(0)\n",
        "else:\n",
        "  print('Optimization ended with status %d' % optimization_model.status)\n",
        "  sys.exit(0)\n",
        "\n",
        "# selected shipments\n",
        "selected_shipments = [] # initialization [shipment_id, value, weight, volume]\n",
        "not_selected_shipments = [] # initialization [shipment_id, value, weight, volume]\n",
        "selected_shipment_IDs = [] # initialization\n",
        "total_weight_of_selected_items = 0  # initialization\n",
        "total_volume_of_selected_items = 0  # initialization\n",
        "for variables in optimization_model.getVars():\n",
        "  if variables.x > 0.5:\n",
        "    selected_shipments.append([variables.index, values[variables.index], weights[variables.index], volumes[variables.index]])\n",
        "    selected_shipment_IDs.append(variables.index)\n",
        "    total_weight_of_selected_items += weights[variables.index]\n",
        "    total_volume_of_selected_items += volumes[variables.index]\n",
        "  else:\n",
        "    not_selected_shipments.append([variables.index, values[variables.index], weights[variables.index], volumes[variables.index]])\n",
        "selected_shipments = sorted(selected_shipments, key=lambda x: x[1], reverse=True) # Shipments are sorted based on values of selected items, descending order\n",
        "print('First twenty selected shipments with highest values: ', selected_shipments[0:20])\n",
        "print('First twenty not selected shipments: ', not_selected_shipments[0:20])\n",
        "print('Total number of shipments in the container: ', len(selected_shipments))\n",
        "print('Total weight in the container: ', round(total_weight_of_selected_items,2), ' kg')\n",
        "print('Total volume in the container: ', round(total_volume_of_selected_items, 2), ' cu. ft.')"
      ],
      "execution_count": null,
      "outputs": [
        {
          "output_type": "stream",
          "text": [
            "\n",
            "The optimal objective: 20565.4\n",
            "First twenty selected shipments with highest values:  [[205, 129.28, 58.28, 12.57], [326, 125.33, 93.87, 9.02], [137, 120.23, 71.49, 9.24], [122, 119.13, 87.59, 9.04], [221, 117.73, 60.26, 6.89], [45, 112.09, 78.18, 8.68], [426, 109.96, 31.21, 9.06], [39, 109.18, 69.61, 9.9], [450, 107.16, 81.76, 11.07], [34, 106.66, 92.67, 12.14], [352, 106.35, 66.54, 11.0], [187, 106.15, 74.65, 9.71], [466, 105.39, 54.94, 7.95], [233, 105.34, 61.25, 10.24], [293, 104.64, 72.43, 10.22], [185, 103.44, 71.17, 12.46], [474, 102.93, 65.36, 6.87], [173, 102.84, 81.87, 11.17], [178, 102.81, 95.9, 11.94], [241, 101.01, 79.17, 9.69]]\n",
            "First twenty not selected shipments:  [[0, 20.76, 56.25, 10.61], [1, 22.22, 53.58, 10.86], [2, 20.33, 103.05, 9.57], [3, 39.76, 58.49, 11.11], [7, 23.81, 52.84, 10.31], [8, 23.04, 71.5, 12.67], [9, 10.24, 80.59, 9.02], [10, 26.62, 72.42, 13.28], [12, 39.59, 38.87, 12.91], [16, 16.71, 72.19, 7.6], [19, 27.41, 75.0, 9.94], [20, 5.31, 95.97, 10.82], [21, 13.22, 44.39, 9.98], [25, 0.44, 67.44, 10.86], [27, 33.23, 50.22, 12.96], [29, 22.48, 54.11, 13.14], [30, 28.3, 63.88, 10.83], [31, 32.67, 104.01, 11.61], [32, 16.93, 57.29, 9.59], [38, 9.22, 55.54, 12.82]]\n",
            "Total number of shipments in the container:  308\n",
            "Total weight in the container:  20495.91  kg\n",
            "Total volume in the container:  2999.98  cu. ft.\n"
          ],
          "name": "stdout"
        }
      ]
    },
    {
      "cell_type": "markdown",
      "metadata": {
        "id": "xATp8kBa-qap"
      },
      "source": [
        "## Some standard modeling interview questions involving binary variables $(x_1, x_2 \\in \\{0, 1\\})$ : (try implementing these constraints)\n",
        "\n",
        "\n",
        "*   **AND**:   $x_1 = 1 \\wedge x_2 = 1 \\implies x_1 + x_2 = 2$\n",
        "*   **OR**:   $x_1 = 1 \\vee x_2 = 1 \\implies x_1 + x_2 \\ge 1$\n",
        "*   **Exclusive OR (not both)**:   $x_1 = 1 \\oplus x_2 = 1 \\implies x_1 + x_2 = 1$\n",
        "*   **At least**: at least pick $k$ items   $\\implies \\sum_i x_i \\ge k $\n",
        "*   **At most**: at most pick $k$ items   $\\implies \\sum_i x_i \\le k $\n",
        "*   **Exact**: pick $k$ items   $\\implies \\sum_i x_i = k $\n",
        "*   **If then (implication)**:  if $x_1 = 1$ then $x_2 = 1$ $\\implies x_1 \\leq x_2$\n",
        "\n"
      ]
    },
    {
      "cell_type": "markdown",
      "metadata": {
        "id": "v8UmzIbPEt-L"
      },
      "source": [
        "##I hope, you learned something today. Since you have come this far, **please share your feedback with [me](https://www.linkedin.com/in/alok7iitb/).**"
      ]
    }
  ]
}