{
 "cells": [
  {
   "cell_type": "code",
   "execution_count": 1,
   "id": "f2bd0b16",
   "metadata": {},
   "outputs": [
    {
     "name": "stdout",
     "output_type": "stream",
     "text": [
      "Requirement already satisfied: cython in c:\\users\\asus\\anaconda3\\lib\\site-packages (0.29.21)\n",
      "Note: you may need to restart the kernel to use updated packages.\n"
     ]
    }
   ],
   "source": [
    "pip install cython"
   ]
  },
  {
   "cell_type": "code",
   "execution_count": 2,
   "id": "600e912a",
   "metadata": {},
   "outputs": [
    {
     "name": "stdout",
     "output_type": "stream",
     "text": [
      "Collecting pulpNote: you may need to restart the kernel to use updated packages.\n",
      "\n",
      "  Downloading PuLP-2.7.0-py3-none-any.whl (14.3 MB)\n",
      "     -------------------------------------- 14.3/14.3 MB 218.8 kB/s eta 0:00:00\n",
      "Installing collected packages: pulp\n",
      "Successfully installed pulp-2.7.0\n"
     ]
    }
   ],
   "source": [
    "pip install pulp"
   ]
  },
  {
   "cell_type": "code",
   "execution_count": 7,
   "id": "9a9cb9eb",
   "metadata": {},
   "outputs": [
    {
     "name": "stdout",
     "output_type": "stream",
     "text": [
      "x 4.0\n",
      "y 6.0\n"
     ]
    }
   ],
   "source": [
    "import pulp as pl\n",
    "\n",
    "model = pl.LpProblem('Ex', pl.LpMaximize)\n",
    "\n",
    "x = pl.LpVariable('x',0,10)\n",
    "y = pl.LpVariable('y',0,10)\n",
    "\n",
    "model += -x+2*y<=8\n",
    "model += 2*x+y<=14\n",
    "model += 2*x-y<=10\n",
    "\n",
    "model += x+y\n",
    "\n",
    "status = model.solve()\n",
    "\n",
    "x_value = pl.value(x)\n",
    "y_value = pl.value(y)\n",
    "\n",
    "\n",
    "print('x', x_value)\n",
    "print('y', y_value)"
   ]
  },
  {
   "cell_type": "code",
   "execution_count": null,
   "id": "8e02b8d2",
   "metadata": {},
   "outputs": [],
   "source": []
  }
 ],
 "metadata": {
  "kernelspec": {
   "display_name": "Python 3",
   "language": "python",
   "name": "python3"
  },
  "language_info": {
   "codemirror_mode": {
    "name": "ipython",
    "version": 3
   },
   "file_extension": ".py",
   "mimetype": "text/x-python",
   "name": "python",
   "nbconvert_exporter": "python",
   "pygments_lexer": "ipython3",
   "version": "3.8.3"
  }
 },
 "nbformat": 4,
 "nbformat_minor": 5
}
