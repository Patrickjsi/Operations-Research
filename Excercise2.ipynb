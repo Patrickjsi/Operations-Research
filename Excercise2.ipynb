{
 "cells": [
  {
   "cell_type": "code",
   "execution_count": 1,
   "id": "35e022b4",
   "metadata": {},
   "outputs": [
    {
     "name": "stdout",
     "output_type": "stream",
     "text": [
      "x : Size=5, Index=x_index\n",
      "    Key : Lower : Value : Upper : Fixed : Stale : Domain\n",
      "      1 :     0 :  None :  None : False :  True : Integers\n",
      "      2 :     0 :  None :  None : False :  True : Integers\n",
      "      3 :     0 :  None :  None : False :  True : Integers\n",
      "      4 :     0 :  None :  None : False :  True : Integers\n",
      "      5 :     0 :  None :  None : False :  True : Integers\n"
     ]
    }
   ],
   "source": [
    "import pyomo.environ as pyo\n",
    "from pyomo.environ import *\n",
    "from pyomo.opt import SolverFactory\n",
    "import time\n",
    "import numpy as np\n",
    "\n",
    "\n",
    "model = pyo.ConcreteModel()\n",
    "\n",
    "model.x = pyo.Var(range(1,6), within = Integers, bounds=(0,np.inf))\n",
    "model.y = pyo.Var(bounds=(0,np.inf))\n",
    "\n",
    "x = model.x\n",
    "y = model.y\n",
    "\n",
    "model.x.pprint()"
   ]
  },
  {
   "cell_type": "code",
   "execution_count": 2,
   "id": "c6cde763",
   "metadata": {},
   "outputs": [
    {
     "name": "stdout",
     "output_type": "stream",
     "text": [
      "2 Set Declarations\n",
      "    C2_index : Size=1, Index=None, Ordered=Insertion\n",
      "        Key  : Dimen : Domain : Size : Members\n",
      "        None :     1 :    Any :    5 : {1, 2, 3, 4, 5}\n",
      "    x_index : Size=1, Index=None, Ordered=Insertion\n",
      "        Key  : Dimen : Domain : Size : Members\n",
      "        None :     1 :    Any :    5 : {1, 2, 3, 4, 5}\n",
      "\n",
      "2 Var Declarations\n",
      "    x : Size=5, Index=x_index\n",
      "        Key : Lower : Value : Upper : Fixed : Stale : Domain\n",
      "          1 :     0 :   0.0 :  None : False : False : Integers\n",
      "          2 :     0 :  -0.0 :  None : False : False : Integers\n",
      "          3 :     0 :  -0.0 :  None : False : False : Integers\n",
      "          4 :     0 :  -0.0 :  None : False : False : Integers\n",
      "          5 :     0 :   2.0 :  None : False : False : Integers\n",
      "    y : Size=1, Index=None\n",
      "        Key  : Lower : Value : Upper : Fixed : Stale : Domain\n",
      "        None :     0 :  15.0 :  None : False : False :  Reals\n",
      "\n",
      "1 Objective Declarations\n",
      "    obj : Size=1, Index=None, Active=True\n",
      "        Key  : Active : Sense    : Expression\n",
      "        None :   True : minimize : x[1] + x[2] + x[3] + x[4] + x[5] + y\n",
      "\n",
      "4 Constraint Declarations\n",
      "    C1 : Size=1, Index=None, Active=True\n",
      "        Key  : Lower : Body                                 : Upper : Active\n",
      "        None :  -Inf : x[1] + x[2] + x[3] + x[4] + x[5] + y :  20.0 :   True\n",
      "    C2 : Size=5, Index=C2_index, Active=True\n",
      "        Key : Lower : Body     : Upper : Active\n",
      "          1 :  15.0 : x[1] + y :  +Inf :   True\n",
      "          2 :  15.0 : x[2] + y :  +Inf :   True\n",
      "          3 :  15.0 : x[3] + y :  +Inf :   True\n",
      "          4 :  15.0 : x[4] + y :  +Inf :   True\n",
      "          5 :  15.0 : x[5] + y :  +Inf :   True\n",
      "    C3 : Size=1, Index=None, Active=True\n",
      "        Key  : Lower : Body                                     : Upper : Active\n",
      "        None :  10.0 : x[1] + 2*x[2] + 3*x[3] + 4*x[4] + 5*x[5] :  +Inf :   True\n",
      "    C4 : Size=1, Index=None, Active=True\n",
      "        Key  : Lower : Body       : Upper : Active\n",
      "        None :  30.0 : x[5] + 2*y :  +Inf :   True\n",
      "\n",
      "9 Declarations: x_index x y C1 C2_index C2 C3 C4 obj\n",
      "x1 = 0\n",
      "x2 = 0\n",
      "x3 = 0\n",
      "x4 = 0\n",
      "x5 = 2\n",
      "y = 15.00\n",
      "obj =  17.0\n"
     ]
    }
   ],
   "source": [
    "C1_sum = sum([x[i] for i in range(1,6)])\n",
    "\n",
    "model.C1 = pyo.Constraint(expr = C1_sum+y<=20)\n",
    "\n",
    "model.C2 = pyo.ConstraintList()\n",
    "for k in range(1,6):\n",
    "    model.C2.add(expr = x[k]+y >= 15)\n",
    "    \n",
    "C3_sum = sum([x[j]*j for j in range(1,6)])   \n",
    "    \n",
    "model.C3 = pyo.Constraint(expr= C3_sum >=10)\n",
    "\n",
    "model.C4 = pyo.Constraint(expr= x[5]+2*y>=30)\n",
    "\n",
    "obj_sum = sum([x[i] for i in range(1,6)])\n",
    "\n",
    "model.obj = pyo.Objective(expr= obj_sum+y, sense=minimize)\n",
    "\n",
    "st_pyo = time.perf_counter()\n",
    "\n",
    "opt = SolverFactory('gurobi')\n",
    "result = opt.solve(model)\n",
    "\n",
    "et_pyo = time.perf_counter()\n",
    "est_pyo = et_pyo - st_pyo\n",
    "\n",
    "model.pprint()\n",
    "\n",
    "for i in range(1,6):\n",
    "    print('x%i = %i' % (i,pyo.value(x[i])))\n",
    "print('y = %.2f' % pyo.value(y))\n",
    "print('obj = ', pyo.value(model.obj))"
   ]
  },
  {
   "cell_type": "code",
   "execution_count": null,
   "id": "6601f325",
   "metadata": {},
   "outputs": [],
   "source": []
  }
 ],
 "metadata": {
  "kernelspec": {
   "display_name": "Python 3 (ipykernel)",
   "language": "python",
   "name": "python3"
  },
  "language_info": {
   "codemirror_mode": {
    "name": "ipython",
    "version": 3
   },
   "file_extension": ".py",
   "mimetype": "text/x-python",
   "name": "python",
   "nbconvert_exporter": "python",
   "pygments_lexer": "ipython3",
   "version": "3.8.17"
  }
 },
 "nbformat": 4,
 "nbformat_minor": 5
}
